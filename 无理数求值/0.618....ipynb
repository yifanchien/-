{
 "cells": [
  {
   "cell_type": "code",
   "execution_count": 173,
   "metadata": {},
   "outputs": [],
   "source": [
    "from decimal import Decimal\n",
    "import decimal\n",
    "def calculate(number,show=True,la=10,save=False):\n",
    "    import time\n",
    "    import sys\n",
    "    a,b = 1,1\n",
    "    decimal.getcontext().prec = number\n",
    "    time1 = time.time()\n",
    "    for i in range(number):\n",
    "        time2 = time.time()\n",
    "        a,b = b,a+b\n",
    "        con = str(Decimal(a)/Decimal(b))\n",
    "        if show:\n",
    "            j = int((i+1)/(number)*la)*\"█\"\n",
    "            jx = (la - int((i+1)/(number)*la))*\"░\"\n",
    "            sys.stdout.write(f\"\\r第{i+1}次 共{number}次 {j}{jx}    {str(Decimal(a)/Decimal(b))} time:{time2-time1}\")\n",
    "            sys.stdout.flush()\n",
    "    if save:\n",
    "        with open(\"黄金比例:0.618033...\") as f:\n",
    "            f.write(str(Decimal(a)/Decimal(b)))\n",
    "    return str(Decimal(a)/Decimal(b))"
   ]
  },
  {
   "cell_type": "code",
   "execution_count": 174,
   "metadata": {},
   "outputs": [
    {
     "name": "stdout",
     "output_type": "stream",
     "text": [
      "第500次 共500次 ██████████    0.61803398874989484820458683436563811772030917980576286213544862270526046281890244970720720418939113748475408807538689175212663386222353693179318006076672635443338908659593958290563832266131992829026788067520877024905998348593847528958165576058250526355291967175533850932970282345339463532692631863481651509785060799032833774955740774068512956168160896546668438305793275346449390981186176919420821938803177616232665246206089532587038407782428686854188228833939730883093439263439782357289816637326627850 time:2.75862765312194824"
     ]
    },
    {
     "data": {
      "text/plain": [
       "'0.61803398874989484820458683436563811772030917980576286213544862270526046281890244970720720418939113748475408807538689175212663386222353693179318006076672635443338908659593958290563832266131992829026788067520877024905998348593847528958165576058250526355291967175533850932970282345339463532692631863481651509785060799032833774955740774068512956168160896546668438305793275346449390981186176919420821938803177616232665246206089532587038407782428686854188228833939730883093439263439782357289816637326627850'"
      ]
     },
     "execution_count": 174,
     "metadata": {},
     "output_type": "execute_result"
    }
   ],
   "source": [
    "calculate(500)"
   ]
  },
  {
   "cell_type": "code",
   "execution_count": null,
   "metadata": {},
   "outputs": [],
   "source": []
  }
 ],
 "metadata": {
  "kernelspec": {
   "display_name": "Python 3",
   "language": "python",
   "name": "python3"
  },
  "language_info": {
   "codemirror_mode": {
    "name": "ipython",
    "version": 3
   },
   "file_extension": ".py",
   "mimetype": "text/x-python",
   "name": "python",
   "nbconvert_exporter": "python",
   "pygments_lexer": "ipython3",
   "version": "3.9.0"
  }
 },
 "nbformat": 4,
 "nbformat_minor": 4
}
