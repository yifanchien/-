{
 "cells": [
  {
   "cell_type": "code",
   "execution_count": 2,
   "metadata": {},
   "outputs": [
    {
     "name": "stderr",
     "output_type": "stream",
     "text": [
      "Downloading: \"https://download.pytorch.org/models/resnet152-b121ed2d.pth\" to C:\\Users\\EVAN/.cache\\torch\\hub\\checkpoints\\resnet152-b121ed2d.pth\n",
      "100.0%\n"
     ]
    },
    {
     "name": "stdout",
     "output_type": "stream",
     "text": [
      "Please enter the image path:C:/Users/EVAN/Desktop/index.jpg\n",
      "Look at the predicted results below:\n",
      "banana 99.15%\n",
      "zucchini, courgette 0.38%\n",
      "pineapple, ananas 0.1%\n",
      "lemon 0.09%\n",
      "orange 0.07%\n"
     ]
    }
   ],
   "source": [
    "import torch\n",
    "from torchvision import models\n",
    "from torchvision import transforms\n",
    "from PIL import Image\n",
    "resnet = models.resnet152(pretrained=True)\n",
    "pps = transforms.Compose([\n",
    "        transforms.Resize(256),\n",
    "        transforms.CenterCrop(224),\n",
    "        transforms.ToTensor(),\n",
    "        transforms.Normalize(\n",
    "            mean=[0.485, 0.456, 0.406],\n",
    "            std=[0.229, 0.224, 0.225]\n",
    "        )])\n",
    "img = Image.open(input(\"Please enter the image path:\"))\n",
    "img_t = pps(img)\n",
    "batch_t = torch.unsqueeze(img_t, 0)\n",
    "resnet.eval()\n",
    "out = resnet(batch_t)\n",
    "with open(\"imagenet_classes.txt\") as f:\n",
    "    labels = [line.strip() for line in f.readlines()]\n",
    "_, index = torch.max(out, 1)\n",
    "percentage = torch.nn.functional.softmax(out, dim=1)[0] * 100\n",
    "_, indices = torch.sort(out, descending=True)\n",
    "print(\"Look at the predicted results below:\")\n",
    "for i in [(labels[idx], percentage[idx].item()) for idx in indices[0][:5]]:\n",
    "    print(i[0]+\" \"+str(round(i[1], 2))+\"%\")"
   ]
  },
  {
   "cell_type": "code",
   "execution_count": null,
   "metadata": {},
   "outputs": [],
   "source": []
  }
 ],
 "metadata": {
  "kernelspec": {
   "display_name": "Python 3",
   "language": "python",
   "name": "python3"
  },
  "language_info": {
   "codemirror_mode": {
    "name": "ipython",
    "version": 3
   },
   "file_extension": ".py",
   "mimetype": "text/x-python",
   "name": "python",
   "nbconvert_exporter": "python",
   "pygments_lexer": "ipython3",
   "version": "3.9.0"
  }
 },
 "nbformat": 4,
 "nbformat_minor": 2
}
